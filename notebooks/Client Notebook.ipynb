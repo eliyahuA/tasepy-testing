{
 "cells": [
  {
   "cell_type": "code",
   "execution_count": 2,
   "id": "45ffc274",
   "metadata": {},
   "outputs": [],
   "source": [
    "import tasepy\n",
    "from tasepy.settings import SettingsBuilder"
   ]
  },
  {
   "cell_type": "code",
   "execution_count": 7,
   "id": "13a6b4d3",
   "metadata": {},
   "outputs": [],
   "source": [
    "client = tasepy.quick_client(settings_instance=SettingsBuilder().with_apikey(environment='TASEPY_TESTING_WORKFLOW').build())"
   ]
  },
  {
   "cell_type": "code",
   "execution_count": 8,
   "id": "197e859b",
   "metadata": {},
   "outputs": [],
   "source": [
    "fundlist = client.funds.get_funds()"
   ]
  },
  {
   "cell_type": "code",
   "execution_count": 9,
   "id": "156152ad",
   "metadata": {},
   "outputs": [
    {
     "data": {
      "text/plain": [
       "ResultItem(fund_id=1142538, fund_name='איביאי טכ עילית', fund_long_name='אי.בי.אי. (5D)י TECH FUND - טכנולוגיה עילית', listing_status_id=1, classification_major=CodeValuePair(code=147, value='קרן סגורה'), classification_main=CodeValuePair(code=148, value='קרן טכנולוגיה עילית'), classification_secondary=None, exposure_profile='5D', isin='IL0011425381', underlying_asset=[{'code': 438, 'weight': 100, 'value': 'ת\"א טק-עילית'}], fund_type=[{'code': 3, 'value': 'קרן הייטק'}])"
      ]
     },
     "execution_count": 9,
     "metadata": {},
     "output_type": "execute_result"
    }
   ],
   "source": [
    "fundlist.funds.result[0]"
   ]
  },
  {
   "cell_type": "code",
   "execution_count": null,
   "id": "fb4761da",
   "metadata": {},
   "outputs": [],
   "source": []
  }
 ],
 "metadata": {
  "kernelspec": {
   "display_name": "Python 3",
   "language": "python",
   "name": "python3"
  },
  "language_info": {
   "codemirror_mode": {
    "name": "ipython",
    "version": 3
   },
   "file_extension": ".py",
   "mimetype": "text/x-python",
   "name": "python",
   "nbconvert_exporter": "python",
   "pygments_lexer": "ipython3",
   "version": "3.13.5"
  }
 },
 "nbformat": 4,
 "nbformat_minor": 5
}
